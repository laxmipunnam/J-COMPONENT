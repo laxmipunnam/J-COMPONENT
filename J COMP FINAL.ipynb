{
  "cells": [
    {
      "cell_type": "markdown",
      "metadata": {
        "id": "5fCEDCU_qrC0"
      },
      "source": [
        "<p><img alt=\"Colaboratory logo\" height=\"45px\" src=\"/img/colab_favicon.ico\" align=\"left\" hspace=\"10px\" vspace=\"0px\"></p>\n",
        "\n",
        "<h1>What is Colaboratory?</h1>\n",
        "\n",
        "Colaboratory, or \"Colab\" for short, allows you to write and execute Python in your browser, with \n",
        "- Zero configuration required\n",
        "- Free access to GPUs\n",
        "- Easy sharing\n",
        "\n",
        "Whether you're a **student**, a **data scientist** or an **AI researcher**, Colab can make your work easier. Watch [Introduction to Colab](https://www.youtube.com/watch?v=inN8seMm7UI) to learn more, or just get started below!"
      ]
    },
    {
      "cell_type": "markdown",
      "metadata": {
        "id": "GJBs_flRovLc"
      },
      "source": [
        "## **Getting started**\n",
        "\n",
        "The document you are reading is not a static web page, but an interactive environment called a **Colab notebook** that lets you write and execute code.\n",
        "\n",
        "For example, here is a **code cell** with a short Python script that computes a value, stores it in a variable, and prints the result:"
      ]
    },
    {
      "cell_type": "code",
      "execution_count": null,
      "metadata": {
        "id": "gJr_9dXGpJ05"
      },
      "outputs": [],
      "source": [
        "seconds_in_a_day = 24 * 60 * 60\n",
        "seconds_in_a_day"
      ]
    },
    {
      "cell_type": "markdown",
      "metadata": {
        "id": "2fhs6GZ4qFMx"
      },
      "source": [
        "To execute the code in the above cell, select it with a click and then either press the play button to the left of the code, or use the keyboard shortcut \"Command/Ctrl+Enter\". To edit the code, just click the cell and start editing.\n",
        "\n",
        "Variables that you define in one cell can later be used in other cells:"
      ]
    },
    {
      "cell_type": "code",
      "execution_count": null,
      "metadata": {
        "id": "-gE-Ez1qtyIA"
      },
      "outputs": [],
      "source": [
        "seconds_in_a_week = 7 * seconds_in_a_day\n",
        "seconds_in_a_week"
      ]
    },
    {
      "cell_type": "markdown",
      "metadata": {
        "id": "lSrWNr3MuFUS"
      },
      "source": [
        "Colab notebooks allow you to combine **executable code** and **rich text** in a single document, along with **images**, **HTML**, **LaTeX** and more. When you create your own Colab notebooks, they are stored in your Google Drive account. You can easily share your Colab notebooks with co-workers or friends, allowing them to comment on your notebooks or even edit them. To learn more, see [Overview of Colab](/notebooks/basic_features_overview.ipynb). To create a new Colab notebook you can use the File menu above, or use the following link: [create a new Colab notebook](http://colab.research.google.com#create=true).\n",
        "\n",
        "Colab notebooks are Jupyter notebooks that are hosted by Colab. To learn more about the Jupyter project, see [jupyter.org](https://www.jupyter.org)."
      ]
    },
    {
      "cell_type": "markdown",
      "metadata": {
        "id": "UdRyKR44dcNI"
      },
      "source": [
        "## Data science\n",
        "\n",
        "With Colab you can harness the full power of popular Python libraries to analyze and visualize data. The code cell below uses **numpy** to generate some random data, and uses **matplotlib** to visualize it. To edit the code, just click the cell and start editing."
      ]
    },
    {
      "cell_type": "code",
      "execution_count": null,
      "metadata": {
        "id": "C4HZx7Gndbrh"
      },
      "outputs": [],
      "source": [
        "import numpy as np\n",
        "from matplotlib import pyplot as plt\n",
        "\n",
        "ys = 200 + np.random.randn(100)\n",
        "x = [x for x in range(len(ys))]\n",
        "\n",
        "plt.plot(x, ys, '-')\n",
        "plt.fill_between(x, ys, 195, where=(ys > 195), facecolor='g', alpha=0.6)\n",
        "\n",
        "plt.title(\"Sample Visualization\")\n",
        "plt.show()"
      ]
    },
    {
      "cell_type": "markdown",
      "metadata": {
        "id": "4_kCnsPUqS6o"
      },
      "source": [
        "You can import your own data into Colab notebooks from your Google Drive account, including from spreadsheets, as well as from Github and many other sources. To learn more about importing data, and how Colab can be used for data science, see the links below under [Working with Data](#working-with-data)."
      ]
    },
    {
      "cell_type": "markdown",
      "metadata": {
        "id": "OwuxHmxllTwN"
      },
      "source": [
        "## Machine learning\n",
        "\n",
        "With Colab you can import an image dataset, train an image classifier on it, and evaluate the model, all in just [a few lines of code](https://colab.research.google.com/github/tensorflow/docs/blob/master/site/en/tutorials/quickstart/beginner.ipynb). Colab notebooks execute code on Google's cloud servers, meaning you can leverage the power of Google hardware, including [GPUs and TPUs](#using-accelerated-hardware), regardless of the power of your machine. All you need is a browser."
      ]
    },
    {
      "cell_type": "markdown",
      "metadata": {
        "id": "ufxBm1yRnruN"
      },
      "source": [
        "Colab is used extensively in the machine learning community with applications including:\n",
        "- Getting started with TensorFlow\n",
        "- Developing and training neural networks\n",
        "- Experimenting with TPUs\n",
        "- Disseminating AI research\n",
        "- Creating tutorials\n",
        "\n",
        "To see sample Colab notebooks that demonstrate machine learning applications, see the [machine learning examples](#machine-learning-examples) below."
      ]
    },
    {
      "cell_type": "markdown",
      "metadata": {
        "id": "-Rh3-Vt9Nev9"
      },
      "source": [
        "## More Resources\n",
        "\n",
        "### Working with Notebooks in Colab\n",
        "- [Overview of Colaboratory](/notebooks/basic_features_overview.ipynb)\n",
        "- [Guide to Markdown](/notebooks/markdown_guide.ipynb)\n",
        "- [Importing libraries and installing dependencies](/notebooks/snippets/importing_libraries.ipynb)\n",
        "- [Saving and loading notebooks in GitHub](https://colab.research.google.com/github/googlecolab/colabtools/blob/main/notebooks/colab-github-demo.ipynb)\n",
        "- [Interactive forms](/notebooks/forms.ipynb)\n",
        "- [Interactive widgets](/notebooks/widgets.ipynb)\n",
        "- <img src=\"/img/new.png\" height=\"20px\" align=\"left\" hspace=\"4px\" alt=\"New\"></img>\n",
        " [TensorFlow 2 in Colab](/notebooks/tensorflow_version.ipynb)\n",
        "\n",
        "<a name=\"working-with-data\"></a>\n",
        "### Working with Data\n",
        "- [Loading data: Drive, Sheets, and Google Cloud Storage](/notebooks/io.ipynb) \n",
        "- [Charts: visualizing data](/notebooks/charts.ipynb)\n",
        "- [Getting started with BigQuery](/notebooks/bigquery.ipynb)\n",
        "\n",
        "### Machine Learning Crash Course\n",
        "These are a few of the notebooks from Google's online Machine Learning course. See the [full course website](https://developers.google.com/machine-learning/crash-course/) for more.\n",
        "- [Intro to Pandas DataFrame](https://colab.research.google.com/github/google/eng-edu/blob/main/ml/cc/exercises/pandas_dataframe_ultraquick_tutorial.ipynb)\n",
        "- [Linear regression with tf.keras using synthetic data](https://colab.research.google.com/github/google/eng-edu/blob/main/ml/cc/exercises/linear_regression_with_synthetic_data.ipynb)\n",
        "\n",
        "\n",
        "<a name=\"using-accelerated-hardware\"></a>\n",
        "### Using Accelerated Hardware\n",
        "- [TensorFlow with GPUs](/notebooks/gpu.ipynb)\n",
        "- [TensorFlow with TPUs](/notebooks/tpu.ipynb)"
      ]
    },
    {
      "cell_type": "markdown",
      "metadata": {
        "id": "P-H6Lw1vyNNd"
      },
      "source": [
        "<a name=\"machine-learning-examples\"></a>\n",
        "\n",
        "## Machine Learning Examples\n",
        "\n",
        "To see end-to-end examples of the interactive machine learning analyses that Colaboratory makes possible, check out these  tutorials using models from [TensorFlow Hub](https://tfhub.dev).\n",
        "\n",
        "A few featured examples:\n",
        "\n",
        "- [Retraining an Image Classifier](https://tensorflow.org/hub/tutorials/tf2_image_retraining): Build a Keras model on top of a pre-trained image classifier to distinguish flowers.\n",
        "- [Text Classification](https://tensorflow.org/hub/tutorials/tf2_text_classification): Classify IMDB movie reviews as either *positive* or *negative*.\n",
        "- [Style Transfer](https://tensorflow.org/hub/tutorials/tf2_arbitrary_image_stylization): Use deep learning to transfer style between images.\n",
        "- [Multilingual Universal Sentence Encoder Q&A](https://tensorflow.org/hub/tutorials/retrieval_with_tf_hub_universal_encoder_qa): Use a machine learning model to answer questions from the SQuAD dataset.\n",
        "- [Video Interpolation](https://tensorflow.org/hub/tutorials/tweening_conv3d): Predict what happened in a video between the first and the last frame.\n"
      ]
    },
    {
      "cell_type": "code",
      "source": [
        "import numpy as np\n",
        "from matplotlib import pyplot as plt"
      ],
      "metadata": {
        "id": "T4Oda8WLUklo"
      },
      "execution_count": 16,
      "outputs": []
    },
    {
      "cell_type": "code",
      "source": [
        "from google.colab import drive\n",
        "drive.mount('/content/drive')"
      ],
      "metadata": {
        "id": "bOg_OJapU3dg",
        "colab": {
          "base_uri": "https://localhost:8080/"
        },
        "outputId": "a45d5748-d25b-47c0-a41f-e77abd6b2b1f"
      },
      "execution_count": 18,
      "outputs": [
        {
          "output_type": "stream",
          "name": "stdout",
          "text": [
            "Mounted at /content/drive\n"
          ]
        }
      ]
    },
    {
      "cell_type": "code",
      "source": [
        "import pandas as pd\n",
        "data=pd.read_csv('/content/drive/MyDrive/lab data')\n"
      ],
      "metadata": {
        "id": "kxQFhKhjVT9B"
      },
      "execution_count": 19,
      "outputs": []
    },
    {
      "cell_type": "code",
      "source": [
        "print(data)"
      ],
      "metadata": {
        "id": "q-i8h1FYV97-",
        "colab": {
          "base_uri": "https://localhost:8080/"
        },
        "outputId": "91123e4c-a1a8-402a-f6d4-44435d99d72d"
      },
      "execution_count": 20,
      "outputs": [
        {
          "output_type": "stream",
          "name": "stdout",
          "text": [
            "      A  B   C  D   p     q     r      s       t  output 1  output2\n",
            "0    81  1  85  1  16  6.11  3.94   54.2   52.80      2200      410\n",
            "1    84  1  89  4  23  3.15  2.65   98.2   94.10      5000     1000\n",
            "2    78  1  81  4  15  1.74  1.15   39.3   31.43      1200      170\n",
            "3    72  2  73  2   4  1.24  1.99   11.4    9.85       165       30\n",
            "4    87  1  90  2  13  6.46  5.33  177.6  147.60      5500      700\n",
            "..   .. ..  .. ..  ..   ...   ...    ...     ...       ...      ...\n",
            "366  83  4  86  1   6  2.65  2.76   92.8   90.40      1100      150\n",
            "367  81  2  82  4   7  5.65  6.11   55.5   54.20       740       80\n",
            "368  84  4  86  3   9  2.29  2.47  111.4  100.40       860      220\n",
            "369  82  3  84  4   6  2.04  1.81   69.4   74.30      1100      110\n",
            "370  80  1  81  3   7  5.97  4.30   49.1   40.10       460       50\n",
            "\n",
            "[371 rows x 11 columns]\n"
          ]
        }
      ]
    },
    {
      "cell_type": "code",
      "source": [
        "x1=data[\"A\"]\n",
        "x2=data[\"B\"]\n",
        "x3=data[\"C\"]\n",
        "x4=data[\"D\"]\n"
      ],
      "metadata": {
        "id": "6OJssQrkazgc"
      },
      "execution_count": 21,
      "outputs": []
    },
    {
      "cell_type": "code",
      "source": [
        "y=data[\"p\"]"
      ],
      "metadata": {
        "id": "wEEQwZjUZ7vT"
      },
      "execution_count": 24,
      "outputs": []
    },
    {
      "cell_type": "code",
      "source": [
        "e=[]\n",
        "import numpy as np\n",
        "def linear(m1,m2,m3,m4,m5):\n",
        "  y1=[]\n",
        "  yp=[]\n",
        "  sum=0\n",
        "  for i in range(0,25):\n",
        "    y1.append(m1*x1[i]+m2*x2[i]+m3*x3[i]+m4*x4[i]+m5)\n",
        "    yp.append(y[i]-y1[i]**2)\n",
        "  e.append(np.mean(yp))"
      ],
      "metadata": {
        "id": "Zq7LOqEudHLU"
      },
      "execution_count": 27,
      "outputs": []
    },
    {
      "cell_type": "code",
      "source": [
        "for i in range(0,200):\n",
        "  linear(1+i,2+i,3+i,4+i,5)\n",
        "print(e)"
      ],
      "metadata": {
        "id": "3ccOsevCfb4R",
        "colab": {
          "base_uri": "https://localhost:8080/"
        },
        "outputId": "7604e317-3ae4-483e-8d84-8b102a6450d7"
      },
      "execution_count": 28,
      "outputs": [
        {
          "output_type": "stream",
          "name": "stdout",
          "text": [
            "[-126734.36, -278917.64, -490356.92, -761052.2, -1091003.48, -1480210.76, -1928674.04, -2436393.32, -3003368.6, -3629599.88, -4315087.16, -5059830.44, -5863829.72, -6727085.0, -7649596.28, -8631363.56, -9672386.84, -10772666.12, -11932201.4, -13150992.68, -14429039.96, -15766343.24, -17162902.52, -18618717.8, -20133789.08, -21708116.36, -23341699.64, -25034538.92, -26786634.2, -28597985.48, -30468592.76, -32398456.04, -34387575.32, -36435950.6, -38543581.88, -40710469.16, -42936612.44, -45222011.72, -47566667.0, -49970578.28, -52433745.56, -54956168.84, -57537848.12, -60178783.4, -62878974.68, -65638421.96, -68457125.24, -71335084.52, -74272299.8, -77268771.08, -80324498.36, -83439481.64, -86613720.92, -89847216.2, -93139967.48, -96491974.76, -99903238.04, -103373757.32, -106903532.6, -110492563.88, -114140851.16, -117848394.44, -121615193.72, -125441249.0, -129326560.28, -133271127.56, -137274950.84, -141338030.12, -145460365.4, -149641956.68, -153882803.96, -158182907.24, -162542266.52, -166960881.8, -171438753.08, -175975880.36, -180572263.64, -185227902.92, -189942798.2, -194716949.48, -199550356.76, -204443020.04, -209394939.32, -214406114.6, -219476545.88, -224606233.16, -229795176.44, -235043375.72, -240350831.0, -245717542.28, -251143509.56, -256628732.84, -262173212.12, -267776947.4, -273439938.68, -279162185.96, -284943689.24, -290784448.52, -296684463.8, -302643735.08, -308662262.36, -314740045.64, -320877084.92, -327073380.2, -333328931.48, -339643738.76, -346017802.04, -352451121.32, -358943696.6, -365495527.88, -372106615.16, -378776958.44, -385506557.72, -392295413.0, -399143524.28, -406050891.56, -413017514.84, -420043394.12, -427128529.4, -434272920.68, -441476567.96, -448739471.24, -456061630.52, -463443045.8, -470883717.08, -478383644.36, -485942827.64, -493561266.92, -501238962.2, -508975913.48, -516772120.76, -524627584.04, -532542303.32, -540516278.6, -548549509.88, -556641997.16, -564793740.44, -573004739.72, -581274995.0, -589604506.28, -597993273.56, -606441296.84, -614948576.12, -623515111.4, -632140902.68, -640825949.96, -649570253.24, -658373812.52, -667236627.8, -676158699.08, -685140026.36, -694180609.64, -703280448.92, -712439544.2, -721657895.48, -730935502.76, -740272366.04, -749668485.32, -759123860.6, -768638491.88, -778212379.16, -787845522.44, -797537921.72, -807289577.0, -817100488.28, -826970655.56, -836900078.84, -846888758.12, -856936693.4, -867043884.68, -877210331.96, -887436035.24, -897720994.52, -908065209.8, -918468681.08, -928931408.36, -939453391.64, -950034630.92, -960675126.2, -971374877.48, -982133884.76, -992952148.04, -1003829667.32, -1014766442.6, -1025762473.88, -1036817761.16, -1047932304.44, -1059106103.72, -1070339159.0, -1081631470.28, -1092983037.56, -1104393860.84, -1115863940.12, -1127393275.4, -1138981866.68, -1150629713.96, -1162336817.24, -1174103176.52, -1185928791.8, -1197813663.08]\n"
          ]
        }
      ]
    },
    {
      "cell_type": "code",
      "source": [
        "y=data[\"q\"]"
      ],
      "metadata": {
        "id": "NMCS87obgEPc"
      },
      "execution_count": 29,
      "outputs": []
    },
    {
      "cell_type": "code",
      "source": [
        "e=[]\n",
        "import numpy as np\n",
        "def linear(m1,m2,m3,m4,m5):\n",
        "  y1=[]\n",
        "  yp=[]\n",
        "  sum=0\n",
        "  for i in range(0,25):\n",
        "    y1.append(m1*x1[i]+m2*x2[i]+m3*x3[i]+m4*x4[i]+m5)\n",
        "    yp.append(y[i]-y1[i]**2)\n",
        "  e.append(np.mean(yp))"
      ],
      "metadata": {
        "id": "bQD0IAkKgeFx"
      },
      "execution_count": 30,
      "outputs": []
    },
    {
      "cell_type": "code",
      "source": [
        "for i in range(0,200):\n",
        "  linear(1+i,1+i,1+i,1+i,1)\n",
        "print(e)"
      ],
      "metadata": {
        "id": "dp-_lQuUgTUN",
        "colab": {
          "base_uri": "https://localhost:8080/"
        },
        "outputId": "0296bdbf-e06c-4fe8-e7a3-18896fdb2859"
      },
      "execution_count": 31,
      "outputs": [
        {
          "output_type": "stream",
          "name": "stdout",
          "text": [
            "[-29968.764799999994, -119196.6048, -267680.4448, -475420.2848, -742416.1247999999, -1068667.9648, -1454175.8047999998, -1898939.6448, -2402959.4847999997, -2966235.3248, -3588767.1648000004, -4270555.004799999, -5011598.844799999, -5811898.6848, -6671454.5248, -7590266.364800001, -8568334.2048, -9605658.0448, -10702237.8848, -11858073.7248, -13073165.5648, -14347513.4048, -15681117.2448, -17073977.0848, -18526092.9248, -20037464.7648, -21608092.6048, -23237976.444800004, -24927116.284800004, -26675512.124800004, -28483163.964800004, -30350071.804800004, -32276235.6448, -34261655.484799996, -36306331.3248, -38410263.1648, -40573451.0048, -42795894.8448, -45077594.6848, -47418550.524799995, -49818762.3648, -52278230.204799995, -54796954.0448, -57374933.884799995, -60012169.7248, -62708661.564799994, -65464409.4048, -68279413.2448, -71153673.08479999, -74087188.9248, -77079960.7648, -80131988.6048, -83243272.44479999, -86413812.2848, -89643608.1248, -92932659.9648, -96280967.80479999, -99688531.64479999, -103155351.4848, -106681427.3248, -110266759.16479999, -113911347.00479999, -117615190.8448, -121378290.6848, -125200646.5248, -129082258.36479999, -133023126.2048, -137023250.04479998, -141082629.8848, -145201265.7248, -149379157.5648, -153616305.4048, -157912709.2448, -162268369.0848, -166683284.9248, -171157456.76479998, -175690884.6048, -180283568.4448, -184935508.2848, -189646704.1248, -194417155.9648, -199246863.8048, -204135827.6448, -209084047.48479998, -214091523.32479998, -219158255.1648, -224284243.0048, -229469486.8448, -234713986.6848, -240017742.5248, -245380754.3648, -250803022.2048, -256284546.04479998, -261825325.8848, -267425361.7248, -273084653.5648, -278803201.4048, -284581005.2448, -290418065.0848, -296314380.9248, -302269952.7648, -308284780.6048, -314358864.4448, -320492204.2848, -326684800.12479997, -332936651.9648, -339247759.8048, -345618123.64479995, -352047743.4848, -358536619.32479995, -365084751.1647999, -371692139.00479996, -378358782.84479994, -385084682.68479997, -391869838.52479994, -398714250.3648, -405617918.20479995, -412580842.0448, -419603021.88479996, -426684457.72479993, -433825149.56479996, -441025097.40479994, -448284301.2448, -455602761.08479995, -462980476.9248, -470417448.76479995, -477913676.6048, -485469160.44479996, -493083900.28479993, -500757896.12479997, -508491147.96479994, -516283655.8048, -524135419.64479995, -532046439.4848, -540016715.3248, -548046247.1647999, -556135035.0048, -564283078.8448, -572490378.6847999, -580756934.5248, -589082746.3648, -597467814.2048, -605912138.0447999, -614415717.8848, -622978553.7248, -631600645.5647999, -640281993.4047999, -649022597.2448, -657822457.0848, -666681572.9247999, -675599944.7648, -684577572.6048, -693614456.4448001, -702710596.2848, -711865992.1248001, -721080643.9648001, -730354551.8048002, -739687715.6448001, -749080135.4848001, -758531811.3248001, -768042743.1648002, -777612931.0048001, -787242374.8448001, -796931074.6848001, -806679030.5248001, -816486242.3648001, -826352710.2048001, -836278434.0448002, -846263413.8848001, -856307649.7248001, -866411141.5648001, -876573889.4048, -886795893.2448001, -897077153.0848001, -907417668.9248002, -917817440.7648001, -928276468.6048001, -938794752.4448001, -949372292.2848, -960009088.1248001, -970705139.9648001, -981460447.8048002, -992275011.6448001, -1003148831.4848001, -1014081907.3248001, -1025074239.1648002, -1036125827.0048001, -1047236670.8448001, -1058406770.6848001, -1069636126.5248001, -1080924738.3648002, -1092272606.2048001, -1103679730.0448, -1115146109.8848002, -1126671745.7248, -1138256637.5648, -1149900785.4048, -1161604189.2447999, -1173366849.0848, -1185188764.9248]\n"
          ]
        }
      ]
    },
    {
      "cell_type": "code",
      "source": [
        "y=data[\"r\"]"
      ],
      "metadata": {
        "id": "r2EFazjUoXJ_"
      },
      "execution_count": 32,
      "outputs": []
    },
    {
      "cell_type": "code",
      "source": [
        "e=[]\n",
        "import numpy as np\n",
        "def linear(m1,m2,m3,m4,m5):\n",
        "  y1=[]\n",
        "  yp=[]\n",
        "  sum=0\n",
        "  for i in range(0,25):\n",
        "    y1.append(m1*x1[i]+m2*x2[i]+m3*x3[i]+m4*x4[i]+m5)\n",
        "    yp.append(y[i]-y1[i]**2)\n",
        "  e.append(np.mean(yp))"
      ],
      "metadata": {
        "id": "HW8HvERMtu6R"
      },
      "execution_count": 33,
      "outputs": []
    },
    {
      "cell_type": "code",
      "source": [
        "for i in range(0,200):\n",
        "  linear(-1+i,-2+i,-3+i,-4+i,-5)\n",
        "print(e)"
      ],
      "metadata": {
        "id": "hk2zYT6Ru35m",
        "colab": {
          "base_uri": "https://localhost:8080/"
        },
        "outputId": "1764fd19-6e2b-4d10-b4c5-3b1fda3fc3d6"
      },
      "execution_count": 34,
      "outputs": [
        {
          "output_type": "stream",
          "name": "stdout",
          "text": [
            "[-126738.23920000001, -33810.9592, -139.6792, -25724.3992, -110565.11919999999, -254661.83920000002, -458014.5592, -720623.2792, -1042487.9992, -1423608.7192000002, -1863985.4392000001, -2363618.1592, -2922506.8792000003, -3540651.5992, -4218052.3192, -4954709.0391999995, -5750621.759200001, -6605790.479200001, -7520215.199200001, -8493895.9192, -9526832.6392, -10619025.3592, -11770474.079199998, -12981178.799199998, -14251139.519199999, -15580356.239199998, -16968828.9592, -18416557.6792, -19923542.3992, -21489783.119200002, -23115279.8392, -24800032.5592, -26544041.279200003, -28347305.9992, -30209826.7192, -32131603.4392, -34112636.1592, -36152924.879200004, -38252469.5992, -40411270.3192, -42629327.0392, -44906639.7592, -47243208.4792, -49639033.199200004, -52094113.9192, -54608450.6392, -57182043.3592, -59814892.0792, -62506996.7992, -65258357.5192, -68068974.2392, -70938846.9592, -73867975.6792, -76856360.3992, -79904001.1192, -83010897.8392, -86177050.5592, -89402459.2792, -92687123.99920002, -96031044.71920002, -99434221.43920001, -102896654.15920001, -106418342.87920003, -109999287.59920003, -113639488.31920002, -117338945.03920002, -121097657.75920002, -124915626.4792, -128792851.19919997, -132729331.9192, -136725068.6392, -140780061.3592, -144894310.0792, -149067814.79919997, -153300575.51919997, -157592592.2392, -161943864.9592, -166354393.6792, -170824178.3992, -175353219.1192, -179941515.8392, -184589068.5592, -189295877.2792, -194061941.9992, -198887262.7192, -203771839.43919998, -208715672.15919998, -213718760.87919998, -218781105.59919998, -223902706.31919998, -229083563.03919998, -234323675.75919998, -239623044.47919998, -244981669.19919997, -250399549.91919997, -255876686.63919997, -261413079.35919997, -267008728.07919997, -272663632.7992, -278377793.51919997, -284151210.2392, -289983882.95919997, -295875811.6792, -301826996.39919996, -307837437.1192, -313907133.83919996, -320036086.5592, -326224295.27919996, -332471759.99920005, -338778480.7192, -345144457.4392, -351569690.15919995, -358054178.8792, -364597923.5992, -371200924.3192, -377863181.0392, -384584693.7592, -391365462.4792, -398205487.1992, -405104767.9192, -412063304.6392, -419081097.3592, -426158146.07919997, -433294450.7992, -440490011.51919997, -447744828.2392, -455058900.95919997, -462432229.6792, -469864814.39919996, -477356655.1192, -484907751.83919996, -492518104.5592, -500187713.2791999, -507916577.9991999, -515704698.7191999, -523552075.4392, -531458708.15919995, -539424596.8792, -547449741.5992, -555534142.3192, -563677799.0392, -571880711.7592, -580142880.4792, -588464305.1992, -596844985.9192, -605284922.6392, -613784115.3592, -622342564.0792, -630960268.7991999, -639637229.5192, -648373446.2392, -657168918.9592, -666023647.6791999, -674937632.3992, -683910873.1192, -692943369.8392, -702035122.5591999, -711186131.2792, -720396395.9992, -729665916.7192, -738994693.4391999, -748382726.1592, -757830014.8792, -767336559.5992, -776902360.3192002, -786527417.0392002, -796211729.7592001, -805955298.4792001, -815758123.1992002, -825620203.9192002, -835541540.6392001, -845522133.3592001, -855561982.0792001, -865661086.7992002, -875819447.5192001, -886037064.2392001, -896313936.9592001, -906650065.6792002, -917045450.3992001, -927500091.1192001, -938013987.8392001, -948587140.5592002, -959219549.2792001, -969911213.9992001, -980662134.7192001, -991472311.4392002, -1002341744.1592002, -1013270432.8792, -1024258377.5992, -1035305578.3192, -1046412035.0392, -1057577747.7592, -1068802716.4792, -1080086941.1992, -1091430421.9192002, -1102833158.6392002, -1114295151.3592002, -1125816400.0792, -1137396904.7992, -1149036665.5192]\n"
          ]
        }
      ]
    },
    {
      "cell_type": "code",
      "source": [
        "y=data[\"s\"]"
      ],
      "metadata": {
        "id": "qyvPzD2rvB8q"
      },
      "execution_count": 35,
      "outputs": []
    },
    {
      "cell_type": "code",
      "source": [
        "e=[]\n",
        "import numpy as np\n",
        "def linear(m1,m2,m3,m4,m5):\n",
        "  y1=[]\n",
        "  yp=[]\n",
        "  sum=0\n",
        "  for i in range(0,25):\n",
        "    y1.append(m1*x1[i]+m2*x2[i]+m3*x3[i]+m4*x4[i]+m5)\n",
        "    yp.append(y[i]-y1[i]**2)\n",
        "  e.append(np.mean(yp))"
      ],
      "metadata": {
        "id": "yK_UrPblvT0Y"
      },
      "execution_count": 36,
      "outputs": []
    },
    {
      "cell_type": "code",
      "source": [
        "for i in range(0,200):\n",
        "  linear(-1+i,-1+i,-1+i,-1+i,-1)\n",
        "print(e)"
      ],
      "metadata": {
        "id": "tHoWG16pvhGn",
        "colab": {
          "base_uri": "https://localhost:8080/"
        },
        "outputId": "52f88084-0e7d-4079-fd54-50582bc9b557"
      },
      "execution_count": 37,
      "outputs": [
        {
          "output_type": "stream",
          "name": "stdout",
          "text": [
            "[-29865.079999999994, 106.76, -29177.399999999994, -117717.56000000001, -265513.72000000003, -472565.87999999995, -738874.0399999998, -1064438.2, -1449258.3600000003, -1893334.5200000003, -2396666.68, -2959254.840000001, -3581099.0000000005, -4262199.16, -5002555.32, -5802167.479999999, -6661035.639999999, -7579159.799999999, -8556539.96, -9593176.12, -10689068.28, -11844216.439999998, -13058620.599999998, -14332280.759999998, -15665196.919999998, -17057369.08, -18508797.24, -20019481.4, -21589421.56, -23218617.720000006, -24907069.880000006, -26654778.040000007, -28461742.200000003, -30327962.360000003, -32253438.520000003, -34238170.68, -36282158.84, -38385403.0, -40547903.160000004, -42769659.32000001, -45050671.48000001, -47390939.64000001, -49790463.80000001, -52249243.96000001, -54767280.12000001, -57344572.28000001, -59981120.44000001, -62676924.60000001, -65431984.76000001, -68246300.92000002, -71119873.08000001, -74052701.24000001, -77044785.4, -80096125.56, -83206721.72000001, -86376573.88, -89605682.03999998, -92894046.19999999, -96241666.35999998, -99648542.51999998, -103114674.67999998, -106640062.83999997, -110224706.99999999, -113868607.15999998, -117571763.31999998, -121334175.47999997, -125155843.63999999, -129036767.79999998, -132976947.95999998, -136976384.12, -141035076.28, -145153024.44, -149330228.6, -153566688.76, -157862404.92, -162217377.07999998, -166631605.23999998, -171105089.39999998, -175637829.56, -180229825.71999997, -184881077.87999997, -189591586.03999996, -194361350.19999996, -199190370.35999995, -204078646.51999995, -209026178.67999995, -214032966.83999997, -219099010.99999997, -224224311.15999997, -229408867.31999996, -234652679.47999996, -239955747.63999996, -245318071.79999995, -250739651.95999995, -256220488.11999997, -261760580.27999997, -267359928.43999997, -273018532.59999996, -278736392.76, -284513508.91999996, -290349881.08, -296245509.23999995, -302200393.4, -308214533.55999994, -314287929.71999997, -320420581.87999994, -326612490.03999996, -332863654.2, -339174074.35999995, -345543750.52, -351972682.68000007, -358460870.8400001, -365008315.00000006, -371615015.1600001, -378280971.32000005, -385006183.4800001, -391790651.6400001, -398634375.8000001, -405537355.9600001, -412499592.12000006, -419521084.2800001, -426601832.44000006, -433741836.6000001, -440941096.76000005, -448199612.9200001, -455517385.0800001, -462894413.24000007, -470330697.4000001, -477826237.56000006, -485381033.7200001, -492995085.88000005, -500668394.0400001, -508400958.20000005, -516192778.3600001, -524043854.5200001, -531954186.68000007, -539923774.84, -547952619.0, -556040719.16, -564188075.32, -572394687.48, -580660555.64, -588985679.8, -597370059.96, -605813696.12, -614316588.28, -622878736.44, -631500140.6, -640180800.7600001, -648920716.9200001, -657719889.08, -666578317.2400001, -675496001.4000001, -684472941.5600001, -693509137.72, -702604589.88, -711759298.04, -720973262.2000002, -730246482.3600001, -739578958.5200001, -748970690.6800002, -758421678.8400002, -767931923.0000001, -777501423.1600002, -787130179.3200002, -796818191.4800001, -806565459.6400001, -816371983.8000002, -826237763.9600002, -836162800.1200001, -846147092.2800002, -856190640.4400002, -866293444.6000001, -876455504.7600001, -886676820.9200002, -896957393.0800002, -907297221.2400001, -917696305.4000001, -928154645.5600002, -938672241.7200001, -949249093.8800001, -959885202.0400002, -970580566.2000002, -981335186.3600001, -992149062.5200001, -1003022194.6800002, -1013954582.8400002, -1024946227.0000001, -1035997127.1600002, -1047107283.3200002, -1058276695.4800001, -1069505363.6400001, -1080793287.8000002, -1092140467.96, -1103546904.1200001, -1115012596.2800002, -1126537544.44, -1138121748.6000001, -1149765208.7600002, -1161467924.92]\n"
          ]
        }
      ]
    },
    {
      "cell_type": "code",
      "source": [
        "y=data[\"t\"]"
      ],
      "metadata": {
        "id": "5IcN61Owvvxq"
      },
      "execution_count": 38,
      "outputs": []
    },
    {
      "cell_type": "code",
      "source": [
        "e=[]\n",
        "import numpy as np\n",
        "def linear(m1,m2,m3,m4,m5):\n",
        "  y1=[]\n",
        "  yp=[]\n",
        "  sum=0\n",
        "  for i in range(0,25):\n",
        "    y1.append(m1*x1[i]+m2*x2[i]+m3*x3[i]+m4*x4[i]+m5)\n",
        "    yp.append(y[i]-y1[i]**2)\n",
        "  e.append(np.mean(yp))"
      ],
      "metadata": {
        "id": "SM5BHucKwdaw"
      },
      "execution_count": 39,
      "outputs": []
    },
    {
      "cell_type": "code",
      "source": [
        "for i in range(0,200):\n",
        "  linear(-2+i,-2+i,-2+i,-2+i,2)\n",
        "print(e)"
      ],
      "metadata": {
        "id": "lRFzobIXwk_f",
        "colab": {
          "base_uri": "https://localhost:8080/"
        },
        "outputId": "f6a9a2f5-e52c-4d33-f20c-e6c7521cf2d7"
      },
      "execution_count": 40,
      "outputs": [
        {
          "output_type": "stream",
          "name": "stdout",
          "text": [
            "[-117045.31399999998, -28848.994000000002, 91.32600000000001, -30224.354000000003, -119796.03399999999, -268623.71400000004, -476707.394, -744047.074, -1070642.754, -1456494.4340000001, -1901602.114, -2405965.794, -2969585.474, -3592461.1539999996, -4274592.834000001, -5015980.514, -5816624.194000001, -6676523.874, -7595679.554, -8574091.234, -9611758.913999999, -10708682.594, -11864862.274, -13080297.954000002, -14354989.634000001, -15688937.314, -17082140.994, -18534600.674, -20046316.354, -21617288.033999994, -23247515.713999998, -24936999.393999998, -26685739.073999997, -28493734.753999997, -30360986.433999997, -32287494.113999996, -34273257.794, -36318277.474, -38422553.154, -40586084.834, -42808872.514, -45090916.194, -47432215.874, -49832771.554, -52292583.234, -54811650.914, -57389974.594, -60027554.274, -62724389.953999996, -65480481.633999996, -68295829.314, -71170432.994, -74104292.674, -77097408.354, -80149780.034, -83261407.714, -86432291.394, -89662431.074, -92951826.754, -96300478.43400002, -99708386.11400002, -103175549.79400001, -106701969.47400002, -110287645.15400001, -113932576.83400002, -117636764.51400001, -121400208.19400002, -125222907.87400001, -129104863.55400002, -133046075.23400001, -137046542.914, -141106266.594, -145225246.27400002, -149403481.95400003, -153640973.634, -157937721.314, -162293724.99400002, -166708984.67400002, -171183500.354, -175717272.034, -180310299.71400002, -184962583.39400002, -189674123.074, -194444918.754, -199274970.43400002, -204164278.11400002, -209112841.79400003, -214120661.474, -219187737.154, -224314068.83400002, -229499656.51400003, -234744500.194, -240048599.874, -245411955.55400002, -250834567.23399997, -256316434.91399997, -261857558.59399998, -267457938.274, -273117573.954, -278836465.634, -284614613.31399995, -290452016.99399996, -296348676.67399997, -302304592.354, -308319764.034, -314394191.714, -320527875.394, -326720815.074, -332973010.754, -339284462.434, -345655170.114, -352085133.794, -358574353.47400004, -365122829.15400004, -371730560.834, -378397548.514, -385123792.194, -391909291.874, -398754047.554, -405658059.234, -412621326.91400003, -419643850.59400004, -426725630.274, -433866665.954, -441066957.634, -448326505.314, -455645308.994, -463023368.674, -470460684.35400003, -477957256.03400004, -485513083.714, -493128167.394, -500802507.074, -508536102.754, -516328954.434, -524181062.114, -532092425.794, -540063045.474, -548092921.154, -556182052.834, -564330440.514, -572538084.194, -580804983.8740001, -589131139.554, -597516551.234, -605961218.914, -614465142.594, -623028322.274, -631650757.954, -640332449.6340001, -649073397.314, -657873600.994, -666733060.674, -675651776.354, -684629748.0339999, -693666975.714, -702763459.3939999, -711919199.0739999, -721134194.754, -730408446.4339999, -739741954.114, -749134717.7939999, -758586737.474, -768098013.1539999, -777668544.834, -787298332.5139999, -796987376.1939999, -806735675.874, -816543231.5539999, -826410043.234, -836336110.9139999, -846321434.594, -856366014.2739999, -866469849.954, -876632941.634, -886855289.3139999, -897136892.994, -907477752.6739999, -917877868.354, -928337240.0339999, -938855867.714, -949433751.3939999, -960070891.0739999, -970767286.754, -981522938.4339999, -992337846.114, -1003212009.7939999, -1014145429.4740001, -1025138105.154, -1036190036.8340001, -1047301224.514, -1058471668.1940001, -1069701367.8740001, -1080990323.5540001, -1092338535.2340002, -1103746002.914, -1115212726.594, -1126738706.2740002, -1138323941.954, -1149968433.634]\n"
          ]
        }
      ]
    },
    {
      "cell_type": "code",
      "source": [
        "c=0\n",
        "if(e[0]<e[1]):\n",
        "  result=e[0]\n",
        "else:\n",
        "  result=e[1]\n",
        "for i in range(0,len(e)):\n",
        "  if(result>e[i]):\n",
        "    result=e[i]\n",
        "    c=i\n",
        "print(\"the less mean square error is\",result)\n"
      ],
      "metadata": {
        "id": "koS2TOKOrVoB",
        "colab": {
          "base_uri": "https://localhost:8080/"
        },
        "outputId": "65e67574-1cb8-40f3-91f5-b762b51d1241"
      },
      "execution_count": 41,
      "outputs": [
        {
          "output_type": "stream",
          "name": "stdout",
          "text": [
            "the less mean square error is -1149968433.634\n"
          ]
        }
      ]
    },
    {
      "cell_type": "code",
      "source": [
        "from matplotlib import pyplot as pt\n",
        "pt.scatter(x1,y)"
      ],
      "metadata": {
        "colab": {
          "base_uri": "https://localhost:8080/",
          "height": 282
        },
        "id": "_FJK7ztwxekI",
        "outputId": "2b7854a6-65f5-4350-dd73-d40838495d3e"
      },
      "execution_count": 43,
      "outputs": [
        {
          "output_type": "execute_result",
          "data": {
            "text/plain": [
              "<matplotlib.collections.PathCollection at 0x7f7acfac2590>"
            ]
          },
          "metadata": {},
          "execution_count": 43
        },
        {
          "output_type": "display_data",
          "data": {
            "image/png": "[encoded data removed]",
            "text/plain": [
              "<Figure size 432x288 with 1 Axes>"
            ]
          },
          "metadata": {
            "needs_background": "light"
          }
        }
      ]
    },
    {
      "cell_type": "code",
      "source": [
        "from matplotlib import pyplot as pt\n",
        "pt.scatter(x2,y)"
      ],
      "metadata": {
        "colab": {
          "base_uri": "https://localhost:8080/",
          "height": 282
        },
        "id": "PZk6zYTfyAAG",
        "outputId": "0b92fe82-0f8e-44d1-9d14-1cbb81e26179"
      },
      "execution_count": 44,
      "outputs": [
        {
          "output_type": "execute_result",
          "data": {
            "text/plain": [
              "<matplotlib.collections.PathCollection at 0x7f7acfac23d0>"
            ]
          },
          "metadata": {},
          "execution_count": 44
        },
        {
          "output_type": "display_data",
          "data": {
            "image/png": "[encoded data removed]",
            "text/plain": [
              "<Figure size 432x288 with 1 Axes>"
            ]
          },
          "metadata": {
            "needs_background": "light"
          }
        }
      ]
    },
    {
      "cell_type": "code",
      "source": [
        "from matplotlib import pyplot as pt\n",
        "pt.scatter(x3,y)"
      ],
      "metadata": {
        "colab": {
          "base_uri": "https://localhost:8080/",
          "height": 282
        },
        "id": "ilgtXDXFyJCD",
        "outputId": "3022204a-0a38-464c-b3a0-2c37626ab961"
      },
      "execution_count": 45,
      "outputs": [
        {
          "output_type": "execute_result",
          "data": {
            "text/plain": [
              "<matplotlib.collections.PathCollection at 0x7f7acf5b4690>"
            ]
          },
          "metadata": {},
          "execution_count": 45
        },
        {
          "output_type": "display_data",
          "data": {
            "image/png": "[encoded data removed]",
            "text/plain": [
              "<Figure size 432x288 with 1 Axes>"
            ]
          },
          "metadata": {
            "needs_background": "light"
          }
        }
      ]
    },
    {
      "cell_type": "code",
      "source": [
        "from matplotlib import pyplot as pt\n",
        "pt.scatter(x4,y)"
      ],
      "metadata": {
        "colab": {
          "base_uri": "https://localhost:8080/",
          "height": 282
        },
        "id": "W7re-3TfyQ9C",
        "outputId": "7600c6b2-1683-4833-a698-b8aae46fa521"
      },
      "execution_count": 46,
      "outputs": [
        {
          "output_type": "execute_result",
          "data": {
            "text/plain": [
              "<matplotlib.collections.PathCollection at 0x7f7acf5361d0>"
            ]
          },
          "metadata": {},
          "execution_count": 46
        },
        {
          "output_type": "display_data",
          "data": {
            "image/png": "[encoded data removed]",
            "text/plain": [
              "<Figure size 432x288 with 1 Axes>"
            ]
          },
          "metadata": {
            "needs_background": "light"
          }
        }
      ]
    }
  ],
  "metadata": {
    "colab": {
      "collapsed_sections": [],
      "name": "Copy of Welcome To Colaboratory",
      "provenance": []
    },
    "kernelspec": {
      "display_name": "Python 3",
      "name": "python3"
    }
  },
  "nbformat": 4,
  "nbformat_minor": 0
}